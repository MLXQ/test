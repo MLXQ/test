{
 "cells": [
  {
   "cell_type": "code",
   "execution_count": 1,
   "metadata": {},
   "outputs": [
    {
     "name": "stderr",
     "output_type": "stream",
     "text": [
      "Using TensorFlow backend.\n"
     ]
    }
   ],
   "source": [
    "#import tensorflow as tf\n",
    "import os\n",
    "import gc\n",
    "import sys\n",
    "import time\n",
    "import datetime\n",
    "\n",
    "import tensorflow as tf\n",
    "#tf.disable_v2_behavior()\n",
    "\n",
    "from tensorflow.python.client import device_lib\n",
    "from tensorflow.python.saved_model import tag_constants\n",
    "from tensorflow.python.tools import freeze_graph\n",
    "from tensorflow.python.tools import optimize_for_inference_lib\n",
    "# import tensorflow_model_optimization as tfmot #require tensorflow_model_optimization module\n",
    "#import theano.tensor as th\n",
    "#import theano\n",
    "\n",
    "\n",
    "import numpy as np\n",
    "import pandas as pd\n",
    "from pandas import Series, DataFrame\n",
    "\n",
    "#from sklearn.preprocessing import MinMaxScaler\n",
    "#from sklearn.preprocessing import StandardScaler\n",
    "from sklearn.model_selection import train_test_split\n",
    "\n",
    "import keras\n",
    "from keras.utils import multi_gpu_model\n",
    "#from keras.utils.training_utils import multi_gpu_model\n",
    "from keras.layers import BatchNormalization, GlobalAvgPool2D, GlobalAveragePooling2D, Add, BatchNormalization\n",
    "from keras.datasets import mnist\n",
    "from keras.utils import np_utils\n",
    "from keras.models import Sequential, Model\n",
    "from keras.layers.core import Dense, Activation\n",
    "from keras.optimizers import SGD\n",
    "from keras.optimizers import Adam\n",
    "from keras.optimizers import RMSprop\n",
    "from keras.activations import softmax\n",
    "from keras.layers.convolutional import Conv2D, MaxPooling2D, ZeroPadding2D, DepthwiseConv2D\n",
    "from keras.layers.core import Flatten, Dropout, Reshape\n",
    "from keras.preprocessing import image\n",
    "from keras.engine.topology import Layer\n",
    "from keras import regularizers\n",
    "from keras import Input\n",
    "from keras.layers.core import Lambda\n",
    "from keras.callbacks import EarlyStopping, ReduceLROnPlateau\n",
    "import keras.backend as kb\n",
    "\n",
    "import matplotlib.pyplot as plt\n",
    "from matplotlib.image import imread\n",
    "%matplotlib inline\n",
    "\n",
    "\n",
    "from IPython.core.interactiveshell import InteractiveShell\n",
    "InteractiveShell.ast_node_interactivity = \"all\"\n",
    "#from scipy.misc import toimage, imread\n",
    "#from skimage.transform import resize\n",
    "#from scipy.misc import toimag \n"
   ]
  },
  {
   "cell_type": "code",
   "execution_count": 2,
   "metadata": {},
   "outputs": [
    {
     "data": {
      "text/plain": [
       "'2.2.4'"
      ]
     },
     "execution_count": 2,
     "metadata": {},
     "output_type": "execute_result"
    }
   ],
   "source": [
    "keras.__version__"
   ]
  },
  {
   "cell_type": "code",
   "execution_count": 3,
   "metadata": {},
   "outputs": [
    {
     "data": {
      "text/plain": [
       "'1.6.0'"
      ]
     },
     "execution_count": 3,
     "metadata": {},
     "output_type": "execute_result"
    }
   ],
   "source": [
    "tf.__version__"
   ]
  },
  {
   "cell_type": "code",
   "execution_count": 4,
   "metadata": {},
   "outputs": [
    {
     "name": "stdout",
     "output_type": "stream",
     "text": [
      "3.5.2 (default, Nov 23 2017, 16:37:01) \n",
      "[GCC 5.4.0 20160609]\n"
     ]
    }
   ],
   "source": [
    "import sys\n",
    "\n",
    "print(sys.version)"
   ]
  },
  {
   "cell_type": "code",
   "execution_count": 5,
   "metadata": {},
   "outputs": [],
   "source": [
    "def  optimize_for_inference(input_graph_def, inputs, ouputs) :\n",
    "    output_graph_def = optimize_for_inference_lib.optimize_for_inference(      \n",
    "        input_graph_def,      \n",
    "        inputs,      \n",
    "        ouputs,       \n",
    "        tf.float32.as_datatype_enum)\n",
    "    return output_graph_def"
   ]
  },
  {
   "cell_type": "code",
   "execution_count": 6,
   "metadata": {},
   "outputs": [],
   "source": [
    "def freeze_trained_model(session, keep_var_names=None, output_names=None, clear_devices=True):\n",
    "    graph = session.graph\n",
    "    with graph.as_default():\n",
    "        freeze_var_names = list(set(v.op.name for v in tf.global_variables()).difference(keep_var_names or []))\n",
    "        output_names = output_names or []\n",
    "        output_names += [v.op.name for v in tf.global_variables()]\n",
    "        print(output_names)\n",
    "        input_graph_def = graph.as_graph_def()\n",
    "        if clear_devices:\n",
    "            for node in input_graph_def.node:\n",
    "                node.device = ''\n",
    "        frozen_graph = tf.graph_util.convert_variables_to_constants(\n",
    "            session, input_graph_def, output_names, freeze_var_names)\n",
    "        return frozen_graph"
   ]
  },
  {
   "cell_type": "code",
   "execution_count": 208,
   "metadata": {},
   "outputs": [],
   "source": [
    "def ListupDataFiles(root) :\n",
    "    try :\n",
    "        subs = []\n",
    "        returnlist = []\n",
    "        files = os.listdir(root)\n",
    "        \n",
    "        for fi in files :\n",
    "            fullpath = os.path.join(root, fi)\n",
    "            if(os.path.isdir(fullpath)) :                \n",
    "                subs.append(fullpath)                \n",
    "            else :\n",
    "                ext = os.path.splitext(fi)[-1]\n",
    "                if ext =='.bmp' :\n",
    "                    returnlist.append(fullpath)\n",
    "        \n",
    "        for sub in subs :\n",
    "            sublist = ListupDataFiles(sub)\n",
    "            returnlist.extend(sublist)\n",
    "    except PermissionError:\n",
    "        pass\n",
    "    \n",
    "    return returnlist"
   ]
  },
  {
   "cell_type": "markdown",
   "metadata": {},
   "source": [
    "# 7. 모델 사용하기(Predict)"
   ]
  },
  {
   "cell_type": "code",
   "execution_count": 7,
   "metadata": {},
   "outputs": [],
   "source": [
    "def CheckValidationEach(path, model):\n",
    "    \n",
    "    displaystep = 10\n",
    "    \n",
    "    print(\"Predict each data\")     \n",
    "    \n",
    "    starttime = time.time()\n",
    "    \n",
    "    validation_filelist = os.listdir(path)\n",
    "    \n",
    "    validation_filelist = [file for file in  validation_filelist if file.endswith(\".bmp\")]\n",
    "    \n",
    "    correctcnt=0\n",
    "    incorrectcnt=0\n",
    "    count = 0;\n",
    "    \n",
    "    predict_results = []\n",
    "    currect_result = []\n",
    "    \n",
    "    for filename in validation_filelist :\n",
    "        maxidx=0\n",
    "        interprocesstime = time.time()\n",
    "                \n",
    "        \n",
    "        #preprocessing - image array and label generate\n",
    "        img = image.load_img(path+'/'+filename)\n",
    "        arr_img = image.img_to_array(img)\n",
    "        #arr_img /= 255.0\n",
    "        label = int(((filename.split('.'))[0].split('_'))[2])        \n",
    "        currect_result.append(label)\n",
    "        \n",
    "        #predict data\n",
    "        validation_result = model.predict(arr_img.reshape(1,256,256,3))\n",
    "        validation_result *= 100\n",
    "        predict_results.append(validation_result)\n",
    "           \n",
    "        #result processing\n",
    "        for idx in range(0,(validation_result.shape[1])):\n",
    "            if validation_result[0,maxidx]<validation_result[0,idx] :\n",
    "                maxidx = idx\n",
    "\n",
    "        if maxidx == label :\n",
    "            correctcnt+=1\n",
    "        else :\n",
    "            incorrectcnt+=1\n",
    "                       \n",
    "        count += 1        \n",
    "        \n",
    "        \n",
    "        percent = count/len(validation_filelist);\n",
    "        arrow  = '-' * int(round(percent * 20)-1) +'>'\n",
    "        spaces = ' ' * (20 - len(arrow))\n",
    "        sys.stdout.write(\"\\rProgress : [{0}] {1}/{2}({3}%), Corr={4},Incorr={5},Acc = {6:7.3f},spt={7:.2f},ispt={8:.2f}\".format(\n",
    "        arrow + spaces, \n",
    "        count,\n",
    "        len(validation_filelist),\n",
    "        int(round(percent*100)),\n",
    "        correctcnt,\n",
    "        incorrectcnt, \n",
    "        (correctcnt /(correctcnt+incorrectcnt)),\n",
    "        (time.time()-starttime),\n",
    "        (time.time()-interprocesstime)\n",
    "        )\n",
    "        )\n",
    "           #if len(validation_filelist) > count+1 :\n",
    "           #    sys.stdout.flush()\n",
    "    \n",
    "        if (count % 200) == 0 :\n",
    "            gc.collect()\n",
    "            \n",
    "    print(\"\\rPredict complete {}sec\".format((time.time()-starttime)))\n",
    "    \n",
    "    result_str = DisplyPerdictResult(predict_results,currect_result, validation_filelist,path)\n",
    "    gc.collect()    \n",
    "    return predict_results,currect_result, validation_filelist, result_str"
   ]
  },
  {
   "cell_type": "code",
   "execution_count": 8,
   "metadata": {},
   "outputs": [],
   "source": [
    "def DisplyPerdictResult(results,correct,files,basepath):\n",
    "    prdictresult = ''\n",
    "    \n",
    "    for index in range(0, len(results)) : \n",
    "        maxidx=0\n",
    "        \n",
    "        for idx in range(1, len(results[0][0])) :\n",
    "            if results[index][0][maxidx]<results[index][0][idx] :\n",
    "                maxidx = idx\n",
    "        \n",
    "        string = \"Noise:{:7.3f} Void:{:7.3f},Surface:{:7.3f},Corona:{:7.3f},NFloating:{:7.3f},predict:{},correct:{},file = {}\".format(\n",
    "            results[index][0][0],results[index][0][1],results[index][0][2],results[index][0][3],results[index][0][4],\n",
    "            maxidx,\n",
    "            correct[index],\n",
    "            files[index]\n",
    "            )\n",
    "        \n",
    "        #string = \"Noise:{:7.3f} Void:{:7.3f},Surface:{:7.3f},Corona:{:7.3f},predict:{},correct:{},file = {}\".format(\n",
    "        #    results[index][0][0],results[index][0][1],results[index][0][2],results[index][0][3],\n",
    "        #    maxidx,\n",
    "        #    correct[index],\n",
    "        #    files[index]\n",
    "        #    )\n",
    "        \n",
    "        prdictresult = prdictresult + '\\n' + string         \n",
    "            \n",
    "        #print(string)\n",
    "        \n",
    "    return prdictresult"
   ]
  },
  {
   "cell_type": "code",
   "execution_count": 9,
   "metadata": {},
   "outputs": [],
   "source": [
    "def DisplyPerdictIncorrectResult(results, correct, files, basepath, marjin = 90.0):\n",
    "     for index in range(0, len(results)) : \n",
    "        maxidx=0\n",
    "        \n",
    "        for idx in range(1, len(results[0][0])) :\n",
    "            if results[index][0][maxidx]<results[index][0][idx] :\n",
    "                maxidx = idx\n",
    "            \n",
    "        if maxidx != correct[index] or results[index][0][maxidx] <= marjin :\n",
    "            if maxidx != correct[index] :\n",
    "                print(\"No:{:7.3f} Vo:{:7.3f},Su:{:7.3f},Co:{:7.3f},NF:{:7.3f},P = {},C = {}, acc = {}, file = {}\".format(\n",
    "                results[index][0][0],results[index][0][1],results[index][0][2],results[index][0][3],\n",
    "                results[index][0][4],\n",
    "                maxidx,\n",
    "                correct[index],\n",
    "                'Fail',\n",
    "                files[index]\n",
    "                ))\n",
    "                #img = image.load_img(basepath+'/'+files[index])\n",
    "                #img.show()\n",
    "            else :\n",
    "                print(\"No:{:7.3f} Vo:{:7.3f},Su:{:7.3f},Co:{:7.3f},NF:{:7.3f},P = {},C = {}, acc = {}, file = {}\".format(\n",
    "                results[index][0][0],results[index][0][1],results[index][0][2],results[index][0][3],\n",
    "                results[index][0][4],\n",
    "                maxidx,\n",
    "                correct[index],\n",
    "                'Succ',\n",
    "                files[index]\n",
    "                ))\n",
    "                #img = image.load_img(basepath+'/'+files[index])\n",
    "                #img.show()"
   ]
  },
  {
   "cell_type": "code",
   "execution_count": 313,
   "metadata": {},
   "outputs": [],
   "source": [
    "def LoadImageDatas(files, print_filse =True, filt = 0) :\n",
    "    #aa = ListupDataFiles('PDImages/20201106_images')\n",
    "    \n",
    "    filtval = 1\n",
    "    images =[]\n",
    "    labels =[]\n",
    "    for filename in files :   \n",
    "        \n",
    "        if filtval%filt == 0 :\n",
    "        \n",
    "            img = image.load_img(filename)\n",
    "            x = image.img_to_array(img)\n",
    "            #x /= 255.0\n",
    "            #x = np.expand_dims(x, axis=0)\n",
    "            images.append(x)\n",
    "            #print(os.path.split(filename))\n",
    "            label = int(((os.path.split(filename)[1].split('.'))[0].split('_'))[2])        \n",
    "            labels.append(label);\n",
    "\n",
    "            if print_filse == True :\n",
    "                print(\"File = {:30s}, Label = {}\".format(\n",
    "                 filename, label\n",
    "                )\n",
    "                )\n",
    "        filtval = filtval + 1\n",
    "    rt_images = np.array(images)\n",
    "    rt_labels = np.array(labels)\n",
    "    \n",
    "    print('Image loaded count : ' , rt_images.shape)\n",
    "    print('Label loaded count : ' , rt_labels.shape)\n",
    "    return rt_images, rt_labels\n",
    "    "
   ]
  },
  {
   "cell_type": "code",
   "execution_count": 11,
   "metadata": {},
   "outputs": [],
   "source": [
    "def LoadImageData(filepath) :\n",
    "    img = image.load_img(filepath)\n",
    "    x = image.img_to_array(img)\n",
    "    rt_images = np.array(x)\n",
    "    return rt_images"
   ]
  },
  {
   "cell_type": "code",
   "execution_count": 12,
   "metadata": {},
   "outputs": [],
   "source": [
    "def labelcheck (name, target) :\n",
    "    label_0 = 0;\n",
    "    label_1 = 0;\n",
    "    label_2 = 0;\n",
    "    label_3 = 0;\n",
    "    label_4 = 0;\n",
    "    total = 0\n",
    "    for index in range(target.shape[0]) :  \n",
    "        total += 1\n",
    "        if target[index][0] > 0.0 :\n",
    "            label_0 += 1\n",
    "        elif target[index][1] > 0.0 :\n",
    "            label_1 += 1\n",
    "        elif target[index][2] > 0.0 :\n",
    "            label_2 += 1\n",
    "        elif target[index][3] > 0.0 :\n",
    "            label_3 += 1\n",
    "        elif target[index][4] > 0.0 :\n",
    "            label_4 += 1\n",
    "    print(\"{} =>0 : {}, 1 : {}, 2 : {}, 3 : {}, 4 : {}, total : {}\".format(\n",
    "         name, label_0, label_1,label_2,label_3, label_4,total\n",
    "    )\n",
    "    )"
   ]
  },
  {
   "cell_type": "code",
   "execution_count": 13,
   "metadata": {},
   "outputs": [],
   "source": [
    "def add_activation(x, use_elu = False) :\n",
    "    if use_elu :\n",
    "        x = keras.activations.elu(alpha=1)\n",
    "    else :    \n",
    "        x = Activation('relu')(x)\n",
    "    return x"
   ]
  },
  {
   "cell_type": "code",
   "execution_count": 14,
   "metadata": {},
   "outputs": [],
   "source": [
    "#kernel_initializer='he_normal',\n",
    "#kernel_regularizer=regularizers.l2(0.01)\n",
    "\n",
    "def Depthwise_bn_relu(x, s, padd, use_elu = False) :\n",
    "    x= DepthwiseConv2D((3,3), strides = (s,s) , padding = padd, use_bias = False, kernel_initializer='he_normal', kernel_regularizer=regularizers.l2(0.0001))(x)\n",
    "    x= BatchNormalization()(x)\n",
    "    x= add_activation(x)\n",
    "    return x"
   ]
  },
  {
   "cell_type": "code",
   "execution_count": 15,
   "metadata": {},
   "outputs": [],
   "source": [
    "def Pointwise_bn_relu(x, num_of_filter, use_elu = False) :\n",
    "    x= Conv2D(num_of_filter, (1,1), strides=(1,1), padding='same', use_bias = False, kernel_initializer='he_normal', kernel_regularizer=regularizers.l2(0.0001))(x)\n",
    "    x= BatchNormalization()(x)\n",
    "    x= add_activation(x)\n",
    "    return x"
   ]
  },
  {
   "cell_type": "code",
   "execution_count": 16,
   "metadata": {},
   "outputs": [],
   "source": [
    "class FeatureExtractor(Layer):\n",
    "\n",
    "    def __init__(self, **kwargs):\n",
    "        self.input_spec = [keras.layers.InputSpec(ndim=4)]\n",
    "        super().__init__(**kwargs)\n",
    "    \n",
    "    def build(self, input_shape):               \n",
    "        self.trainable = False        \n",
    "        #print('input_shape : ', input_shape)\n",
    "        self.b = input_shape[0]\n",
    "        self.h = input_shape[1]\n",
    "        self.w = input_shape[2]\n",
    "        #print(\"b :\" , self.b,\"h :\" , self.h,\"w :\" , self.w)\n",
    "        self.x = tf.range(self.w, delta= 1.0/self.w, dtype='float32')\n",
    "        self.y = tf.range(self.h, delta= 1.0/self.h, dtype='float32')\n",
    "               \n",
    "        super(FeatureExtractor, self).build(input_shape)  # 끝에서 꼭 이 함수를 호출하십시오\n",
    "    def Calculate(self, d) :\n",
    "        #print(tf.shape(d))\n",
    "        xp = tf.reduce_sum(d,axis=0)\n",
    "        yp = tf.reduce_sum(d,axis=1)\n",
    "\n",
    "        #centroid\n",
    "        ltt_x = self.x*xp\n",
    "        ltt_y = self.y*yp\n",
    "        cx  = tf.reduce_sum(ltt_x) / tf.reduce_sum(xp)    \n",
    "        cy = tf.reduce_sum(ltt_y) / tf.reduce_sum(yp)\n",
    "\n",
    "        #standard deviation\n",
    "        x2 = tf.pow((self.x-cx),2)\n",
    "        y2 = tf.pow((self.y-cy),2)\n",
    "\n",
    "        sx = tf.sqrt( tf.reduce_sum(x2*xp)/tf.reduce_sum(xp) )\n",
    "        sy = tf.sqrt( tf.reduce_sum(y2*yp)/tf.reduce_sum(yp) )\n",
    "\n",
    "        #skewness\n",
    "        x3 = tf.pow((self.x-cx),3)\n",
    "        y3 = tf.pow((self.y-cy),3)\n",
    "\n",
    "        skx = tf.reduce_sum(xp*x3)/(tf.reduce_sum(xp) * tf.pow(sx,3))\n",
    "        sky = tf.reduce_sum(yp*y3)/(tf.reduce_sum(yp) * tf.pow(sy,3))\n",
    "\n",
    "        #Kurtosis\n",
    "        x4 = tf.pow((self.x-cx),4)\n",
    "        y4 = tf.pow((self.y-cy),4)\n",
    "\n",
    "        kx = tf.reduce_sum(xp*x4)/(tf.reduce_sum(xp) * tf.pow(sx,4))\n",
    "        ky = tf.reduce_sum(yp*y4)/(tf.reduce_sum(yp) * tf.pow(sy,4))\n",
    "\n",
    "        rowrlt = tf.stack([cx, cy, sx,sy,skx,sky,kx,ky], axis=0)\n",
    "        return rowrlt\n",
    "        \n",
    "    def call(self, inputs, training=None, mask=None):                             \n",
    "            \n",
    "        rltlist = tf.map_fn(self.Calculate, back_prop=False,elems=inputs)\n",
    "        \n",
    "       # print(\"Tv\", tf.shape(tv), \",\", tv.get_shape()[0])\n",
    "       # rltlist = []\n",
    "       # for i in range(0, tv.get_shape()[0]) :              \n",
    "       #     rlt = self.Calculate(tf.reshape(inputs[i]))                   \n",
    "       #     rltlist.append(rlt)            \n",
    "       # return tf.stack(rltlist)\n",
    "        \n",
    "        #print (rltlist.get_shape())\n",
    "        return rltlist\n",
    "  \n",
    "    def compute_output_shape(self, inshape):\n",
    "        return (inshape[0], 8)"
   ]
  },
  {
   "cell_type": "code",
   "execution_count": 17,
   "metadata": {},
   "outputs": [],
   "source": [
    "class ImageCorrlelation(Layer) :\n",
    "     def __init__(self, **kwargs):\n",
    "        self.input_spec = [keras.layers.InputSpec(ndim=4)]\n",
    "        super().__init__(**kwargs)\n",
    "    \n",
    "     def build(self, input_shape):               \n",
    "        self.trainable = False                               \n",
    "        super(ImageCorrlelation, self).build(input_shape)  # 끝에서 꼭 이 함수를 호출하십시오\n",
    "    \n",
    "     def Calculate(self ,image) :    \n",
    "        sub_1_xp = tf.reduce_sum( image[0],axis=0)\n",
    "        sub_1_yp = tf.reduce_sum( image[0],axis=1)\n",
    "\n",
    "        sub_2_xp = tf.reduce_sum(image[1],axis=0)\n",
    "        sub_2_yp = tf.reduce_sum(image[1],axis=1)\n",
    "\n",
    "        mx_x1 = tf.reduce_mean(sub_1_xp)\n",
    "        mx_x2 = tf.reduce_mean(sub_2_xp)\n",
    "\n",
    "        ax = tf.reduce_sum((sub_1_xp-mx_x1)*(sub_2_xp-mx_x2))\n",
    "        bx = tf.reduce_sum( tf.pow(sub_1_xp - mx_x1,2))\n",
    "        cx = tf.reduce_sum( tf.pow(sub_2_xp - mx_x2,2))\n",
    "\n",
    "        mx_y1 = tf.reduce_mean(sub_1_yp)\n",
    "        mx_y2 = tf.reduce_mean(sub_2_yp)\n",
    "\n",
    "        ay = tf.reduce_sum((sub_1_yp-mx_y1)*(sub_2_yp-mx_y2))\n",
    "        by = tf.reduce_sum( tf.pow(sub_1_yp - mx_y1,2))\n",
    "        cy = tf.reduce_sum( tf.pow(sub_2_yp - mx_y2,2))\n",
    "\n",
    "        ccx = tf.reduce_sum(ax) / tf.sqrt( tf.reduce_sum(bx * cx))\n",
    "        ccy = tf.reduce_sum(ay) / tf.sqrt( tf.reduce_sum(by * cy))\n",
    "\n",
    "        cc = tf.stack([ccx, ccy], axis=0)     \n",
    "        return tf.truediv(cc, 100.0)\n",
    "    \n",
    "     def call(self, inputs, training=None, mask=None):                                     \n",
    "        \n",
    "        #print(\"corr call start\")\n",
    "        #rltlist = tf.map_fn(self.Calculate, back_prop=False ,elems= inputs)\n",
    "        #print (\"corr input \" , inputs)\n",
    "        \n",
    "        #print (\"corr input t1\" , tf.stack([inputs[0], inputs[1]], axis = 0))\n",
    "        \n",
    "        #print (\"corr input t2\" , tf.stack([inputs[0], inputs[1]], axis = 1))\n",
    "        \n",
    "        rltlist = tf.map_fn(self.Calculate, back_prop=False,elems= tf.stack([inputs[0], inputs[1]], axis = 1))\n",
    "        #rltlist = []\n",
    "        #for i in range(0, self.b) :            \n",
    "        #    rlt = self.Calculate(inputs[0][i], inputs[1][i])                                                   \n",
    "        #    rltlist.append(rlt)  \n",
    "        #return tf.stack(rltlist) # self.result     \n",
    "        #print(\"corr call end\")\n",
    "        #print (rltlist.get_shape())\n",
    "        return rltlist\n",
    "    \n",
    "     def compute_output_shape(self, inshape):\n",
    "        #print(\"compute_output_shape\", inshape[0][0])\n",
    "        return ( inshape[0][0], 2)    "
   ]
  },
  {
   "cell_type": "code",
   "execution_count": 18,
   "metadata": {},
   "outputs": [],
   "source": [
    "# 노이즈 날리는\n",
    "class ImagefeatureExtraction(Layer) :\n",
    "    \n",
    "    def __init__(self,noiselevel = 200, **kwargs):        \n",
    "        self.noiselevel = noiselevel\n",
    "        super().__init__(**kwargs)    \n",
    "    \n",
    "    def build(self, input_shape ):               \n",
    "        self.trainable = False\n",
    "        self.h = input_shape[1]\n",
    "        self.w = input_shape[2]\n",
    "        \n",
    "        self.half_w = int(self.w / 2)\n",
    "\n",
    "        \n",
    "        self.x = tf.range(0.0, 1.0, (1.0/self.half_w), dtype='float32')\n",
    "        self.y = tf.range(0.0, 1.0, (1.0/self.h), dtype='float32')\n",
    "                \n",
    "        print(\"Noise level : \" ,self.noiselevel )\n",
    "        super(ImagefeatureExtraction, self).build(input_shape)  # 끝에서 꼭 이 함수를 호출하십시오\n",
    "                \n",
    "    def imagenoiseremove(self, row) :\n",
    "        cnt = tf.count_nonzero(row)\n",
    "        rlt = tf.cond(cnt < self.noiselevel ,lambda : row, lambda :tf.zeros((self.w)) )\n",
    "        return rlt\n",
    "    \n",
    "\n",
    "    def calcualte_feature_true_fn(self, axisprojection_sum, projection_sum, projection, centroid, mult) :\n",
    "        #standard deviation\n",
    "        stddev= tf.sqrt(axisprojection_sum / projection_sum)\n",
    "            \n",
    "        x3 = tf.pow((mult-centroid),3)                \n",
    "        skewness = tf.reduce_sum(projection * x3 ) / (projection_sum * tf.pow(stddev,3))\n",
    "\n",
    "        x4 = tf.pow((mult-centroid),4)                \n",
    "        kurtosis = tf.reduce_sum(projection * x4 ) / (projection_sum * tf.pow(stddev,4))\n",
    "        \n",
    "        return stddev, skewness, kurtosis\n",
    "\n",
    "    def calcualte_feature_false_fn(self) :              \n",
    "        return 0.0,0.0,0.0\n",
    "    \n",
    "    def generatesubimagefeature(self, proj_x, proj_y, proj_x_sum, proj_y_sum) :\n",
    "        \n",
    "        #centroid sub image left\n",
    "        img_centroid_x = tf.reduce_sum((self.x*proj_x)) / proj_x_sum   \n",
    "        img_centroid_y = tf.reduce_sum((self.y*proj_y)) / proj_y_sum\n",
    "                \n",
    "        img_centroid_x = tf.cond(  tf.is_nan(img_centroid_x) ,\n",
    "                  lambda:  0.0,\n",
    "                  lambda:  img_centroid_x\n",
    "                )    \n",
    "            \n",
    "        img_centroid_y = tf.cond(  tf.is_nan(img_centroid_y) ,\n",
    "                  lambda:  0.0,\n",
    "                  lambda:  img_centroid_y\n",
    "                )\n",
    "        \n",
    "        x2 = tf.pow((self.x-img_centroid_x),2)\n",
    "        y2 = tf.pow((self.y-img_centroid_y),2)\n",
    "\n",
    "        x2xp_sum = tf.reduce_sum(x2 * proj_x)\n",
    "        y2yp_sum = tf.reduce_sum(y2 * proj_y)\n",
    "                     \n",
    "        img_std_x,img_skewness_x,img_Kurtosis_x =  tf.cond(   tf.equal(x2xp_sum, 0.0) ,\n",
    "                      lambda:  self.calcualte_feature_false_fn(),\n",
    "                      lambda:  self.calcualte_feature_true_fn(x2xp_sum, proj_x_sum, proj_x, img_centroid_x,self.x)\n",
    "                    )    \n",
    "        \n",
    "        img_std_y,img_skewness_y,img_Kurtosis_y =  tf.cond(  tf.equal(y2yp_sum, 0.0) ,\n",
    "                      lambda:  self.calcualte_feature_false_fn(),\n",
    "                      lambda:  self.calcualte_feature_true_fn(y2yp_sum, proj_y_sum, proj_y, img_centroid_y,self.y)\n",
    "                    ) \n",
    "            \n",
    "        return img_centroid_x, img_centroid_y, img_std_x, img_std_y, img_skewness_x, img_skewness_y, img_Kurtosis_x, img_Kurtosis_y\n",
    "    \n",
    "    def generateCorrel(self, left_proj, right_proj, left_proj_mean, right_proj_mean ) :\n",
    "        a = tf.reduce_sum( (left_proj-left_proj_mean) * (right_proj-right_proj_mean))\n",
    "        b = tf.reduce_sum( tf.pow(left_proj - left_proj_mean,2) )\n",
    "        c = tf.reduce_sum( tf.pow(right_proj - right_proj_mean,2) )\n",
    "\n",
    "        cc = tf.reduce_sum(a) / tf.sqrt( tf.reduce_sum(b * c))\n",
    "        \n",
    "        cc = tf.cond(  tf.is_nan(cc) ,\n",
    "                  lambda:  0.0,\n",
    "                  lambda:  cc\n",
    "                )    \n",
    "            \n",
    "        return cc\n",
    "    \n",
    "    def calc(self, image) :\n",
    "        \n",
    "        gimg =  tf.reshape(tf.image.rgb_to_grayscale(image), (self.h,self.w))     \n",
    "        #그레이스켈링되고 \n",
    "        \n",
    "        #노이즈0으로 제거한 이미지 반환 self.imagenoiseremover \n",
    "        #remove background noise -> for each row if nonzero columnt > noise_level than zero else row\n",
    "        timg =  tf.map_fn(self.imagenoiseremove, back_prop=False,elems= gimg)         \n",
    "        \n",
    "        #divide sub images\n",
    "        left_img = timg[:,:self.half_w]\n",
    "        right_img = timg[:,self.half_w:]\n",
    "        \n",
    "        #left image projection\n",
    "        left_img_projection_x = tf.reduce_sum( left_img,axis=0)                                 \n",
    "        left_img_projection_y = tf.reduce_sum( left_img,axis=1) \n",
    "            \n",
    "        left_img_projection_x_sum = tf.reduce_sum(left_img_projection_x)\n",
    "        left_img_projection_y_sum = tf.reduce_sum(left_img_projection_y)\n",
    "            \n",
    "        #right image projection\n",
    "        right_img_projection_x = tf.reduce_sum( right_img,axis=0)\n",
    "        right_img_projection_y = tf.reduce_sum( right_img,axis=1)\n",
    "                \n",
    "        right_img_projection_x_sum = tf.reduce_sum(right_img_projection_x)\n",
    "        right_img_projection_y_sum = tf.reduce_sum(right_img_projection_y)    \n",
    "        \n",
    "       \n",
    "        #mean projection\n",
    "        mean_left_img_projection_x = tf.reduce_mean(left_img_projection_x)\n",
    "        mean_right_img_projection_x = tf.reduce_mean(right_img_projection_x)\n",
    "        \n",
    "        mean_left_img_projection_y = tf.reduce_mean(left_img_projection_y)\n",
    "        mean_right_img_projection_y = tf.reduce_mean(right_img_projection_y)\n",
    "  \n",
    "        \n",
    "        # lambda : row, lambda :tf.zeros((self.w))\n",
    "        ccx = self.generateCorrel(left_img_projection_x, right_img_projection_x, mean_left_img_projection_x,mean_right_img_projection_x)\n",
    "        ccy = self.generateCorrel(left_img_projection_y, right_img_projection_y, mean_left_img_projection_y, mean_right_img_projection_y)\n",
    "        \n",
    "        \n",
    "        left_img_centroid_x, left_img_centroid_y, left_img_std_x, left_img_std_y, left_img_skewness_x, left_img_skewness_y, left_img_Kurtosis_x, left_img_Kurtosis_y = self.generatesubimagefeature(left_img_projection_x, left_img_projection_y, left_img_projection_x_sum, left_img_projection_y_sum)\n",
    "        \n",
    "        right_img_centroid_x, right_img_centroid_y, right_img_std_x, right_img_std_y, right_img_skewness_x, right_img_skewness_y, right_img_Kurtosis_x, right_img_Kurtosis_y= self.generatesubimagefeature(right_img_projection_x, right_img_projection_y, right_img_projection_x_sum, right_img_projection_y_sum)\n",
    "        \n",
    "        return tf.stack([\n",
    "            left_img_centroid_x,left_img_centroid_y, right_img_centroid_x,right_img_centroid_y,            \n",
    "            left_img_std_x, left_img_std_y, right_img_std_x, right_img_std_y,\n",
    "            left_img_skewness_x,left_img_skewness_y, right_img_skewness_x, right_img_skewness_y,\n",
    "            left_img_Kurtosis_x, left_img_Kurtosis_y, right_img_Kurtosis_x, right_img_Kurtosis_y,\n",
    "            ccx, ccy], axis=0)\n",
    "    \n",
    "    \n",
    "    #call부터 \n",
    "    def call(self, inputs, training=None, mask=None):                                     \n",
    "  \n",
    "        rltlist = tf.map_fn(self.calc, back_prop=False,elems= inputs)\n",
    "        return rltlist \n",
    "         \n",
    "    def compute_output_shape(self, inshape):\n",
    "        #print(\"compute_output_shape\", inshape[0])\n",
    "        return ( inshape[0], 18)  \n",
    "    #inshape[0] = 배치사이즈, 각 이미지마다 18개 정보 리턴"
   ]
  },
  {
   "cell_type": "markdown",
   "metadata": {},
   "source": [
    "# MobilenetV1 Model"
   ]
  },
  {
   "cell_type": "code",
   "execution_count": 145,
   "metadata": {},
   "outputs": [],
   "source": [
    " def create_mobilnetv1_model(input_shape, n_class, use_elu = False, print_summary = True) :\n",
    "    \n",
    "  \n",
    "    \n",
    "    input_tensor = Input(input_shape, dtype='float32', name='input')    \n",
    "    normalize_lamdalayer = Lambda(lambda x: x / 255.0, name=\"normalizeoutput\")(input_tensor)                \n",
    "    \n",
    "    #statics layer    \n",
    "    imgaefeatureconcatlayer = ImagefeatureExtraction(100)(normalize_lamdalayer)\n",
    "    statlayerhidd = Dense(64, activation='relu', kernel_regularizer=regularizers.l2(0.0001))(imgaefeatureconcatlayer)        \n",
    "    statlayerhidd = Dense(64, kernel_regularizer=regularizers.l2(0.0001))(statlayerhidd)      \n",
    "    statlayerhidd = BatchNormalization()(statlayerhidd)\n",
    "    statlayerhidd = Activation(activation='relu')(statlayerhidd)\n",
    "    statreshape = Reshape((1,1,64))(statlayerhidd)\n",
    "        \n",
    "    \n",
    "    x = ZeroPadding2D(padding = ((0,1),(0,1)))(normalize_lamdalayer)           \n",
    "    x = Conv2D(32,(3,3), strides = (2,2), padding='valid', use_bias = False, kernel_initializer='he_normal')(x)\n",
    "    x = BatchNormalization()(x)\n",
    "    x=  add_activation(x)\n",
    "            \n",
    "    x = Depthwise_bn_relu(x,1,'same')\n",
    "    x = Pointwise_bn_relu(x,64)\n",
    "    x = ZeroPadding2D(padding = ((0,1),(0,1)))(x)\n",
    "    \n",
    "    x = Depthwise_bn_relu(x,2,'valid')\n",
    "    x = Pointwise_bn_relu(x,128)\n",
    "    \n",
    "    x = Depthwise_bn_relu(x,1,'same')\n",
    "    x = Pointwise_bn_relu(x,128)\n",
    "    x = ZeroPadding2D(padding = ((0,1),(0,1)))(x)\n",
    "    \n",
    "    x = Depthwise_bn_relu(x,2,'valid')\n",
    "    x = Pointwise_bn_relu(x,256)\n",
    "    \n",
    "    x = Depthwise_bn_relu(x,1,'same')\n",
    "    x = Pointwise_bn_relu(x,256)\n",
    "    x = ZeroPadding2D(padding = ((0,1),(0,1)))(x)\n",
    "    \n",
    "    x = Depthwise_bn_relu(x,2,'valid')\n",
    "    x = Pointwise_bn_relu(x,512)\n",
    "    \n",
    "    #for _ in range(5) :\n",
    "    #    x = Depthwise_bn_relu(x,1,'same')\n",
    "    #    x = Pointwise_bn_relu(x,512)\n",
    "    x = ZeroPadding2D(padding = ((0,1),(0,1)))(x)\n",
    "    \n",
    "    x = Depthwise_bn_relu(x,2,'valid')\n",
    "    x = Pointwise_bn_relu(x,1024)\n",
    "    x = Dropout(0.5)(x)\n",
    "    \n",
    "    # Dropout overfitting 방지하기 위해 노드 연결 줄이는\n",
    "    x = Depthwise_bn_relu(x,2,'same')\n",
    "    x = Pointwise_bn_relu(x,1024)\n",
    "    x = Dropout(0.5)(x)\n",
    "    \n",
    "    x = GlobalAveragePooling2D(name='featureoutput')(x)\n",
    "    x = Dropout(0.5)(x)\n",
    "    x = Reshape((1,1,1024))(x)\n",
    "                \n",
    "    x = keras.layers.concatenate([x, statreshape])\n",
    "    \n",
    "    x = Dropout(0.4)(x)\n",
    "    x = Conv2D(n_class, (1,1), strides= (1,1), padding = 'same', use_bias = False, kernel_initializer='he_normal', kernel_regularizer=regularizers.l2(0.0001))(x)\n",
    "    x = Activation('softmax')(x)\n",
    "    \n",
    "    x = Reshape((n_class,), name='classoutput')(x)\n",
    "    \n",
    "    model = Model(input_tensor, x)\n",
    "    \n",
    "    if print_summary== True :\n",
    "        model.summary()\n",
    "    \n",
    "    return model"
   ]
  },
  {
   "cell_type": "markdown",
   "metadata": {},
   "source": [
    "# START!!!!!!"
   ]
  },
  {
   "cell_type": "code",
   "execution_count": 369,
   "metadata": {},
   "outputs": [
    {
     "data": {
      "text/plain": [
       "<tf.Operation 'init' type=NoOp>"
      ]
     },
     "execution_count": 369,
     "metadata": {},
     "output_type": "execute_result"
    },
    {
     "name": "stdout",
     "output_type": "stream",
     "text": [
      "Noise level :  100\n",
      "__________________________________________________________________________________________________\n",
      "Layer (type)                    Output Shape         Param #     Connected to                     \n",
      "==================================================================================================\n",
      "input (InputLayer)              (None, 256, 256, 3)  0                                            \n",
      "__________________________________________________________________________________________________\n",
      "normalizeoutput (Lambda)        (None, 256, 256, 3)  0           input[0][0]                      \n",
      "__________________________________________________________________________________________________\n",
      "zero_padding2d_1 (ZeroPadding2D (None, 257, 257, 3)  0           normalizeoutput[0][0]            \n",
      "__________________________________________________________________________________________________\n",
      "conv2d_1 (Conv2D)               (None, 128, 128, 32) 864         zero_padding2d_1[0][0]           \n",
      "__________________________________________________________________________________________________\n",
      "batch_normalization_2 (BatchNor (None, 128, 128, 32) 128         conv2d_1[0][0]                   \n",
      "__________________________________________________________________________________________________\n",
      "activation_2 (Activation)       (None, 128, 128, 32) 0           batch_normalization_2[0][0]      \n",
      "__________________________________________________________________________________________________\n",
      "depthwise_conv2d_1 (DepthwiseCo (None, 128, 128, 32) 288         activation_2[0][0]               \n",
      "__________________________________________________________________________________________________\n",
      "batch_normalization_3 (BatchNor (None, 128, 128, 32) 128         depthwise_conv2d_1[0][0]         \n",
      "__________________________________________________________________________________________________\n",
      "activation_3 (Activation)       (None, 128, 128, 32) 0           batch_normalization_3[0][0]      \n",
      "__________________________________________________________________________________________________\n",
      "conv2d_2 (Conv2D)               (None, 128, 128, 64) 2048        activation_3[0][0]               \n",
      "__________________________________________________________________________________________________\n",
      "batch_normalization_4 (BatchNor (None, 128, 128, 64) 256         conv2d_2[0][0]                   \n",
      "__________________________________________________________________________________________________\n",
      "activation_4 (Activation)       (None, 128, 128, 64) 0           batch_normalization_4[0][0]      \n",
      "__________________________________________________________________________________________________\n",
      "zero_padding2d_2 (ZeroPadding2D (None, 129, 129, 64) 0           activation_4[0][0]               \n",
      "__________________________________________________________________________________________________\n",
      "depthwise_conv2d_2 (DepthwiseCo (None, 64, 64, 64)   576         zero_padding2d_2[0][0]           \n",
      "__________________________________________________________________________________________________\n",
      "batch_normalization_5 (BatchNor (None, 64, 64, 64)   256         depthwise_conv2d_2[0][0]         \n",
      "__________________________________________________________________________________________________\n",
      "activation_5 (Activation)       (None, 64, 64, 64)   0           batch_normalization_5[0][0]      \n",
      "__________________________________________________________________________________________________\n",
      "conv2d_3 (Conv2D)               (None, 64, 64, 128)  8192        activation_5[0][0]               \n",
      "__________________________________________________________________________________________________\n",
      "batch_normalization_6 (BatchNor (None, 64, 64, 128)  512         conv2d_3[0][0]                   \n",
      "__________________________________________________________________________________________________\n",
      "activation_6 (Activation)       (None, 64, 64, 128)  0           batch_normalization_6[0][0]      \n",
      "__________________________________________________________________________________________________\n",
      "depthwise_conv2d_3 (DepthwiseCo (None, 64, 64, 128)  1152        activation_6[0][0]               \n",
      "__________________________________________________________________________________________________\n",
      "batch_normalization_7 (BatchNor (None, 64, 64, 128)  512         depthwise_conv2d_3[0][0]         \n",
      "__________________________________________________________________________________________________\n",
      "activation_7 (Activation)       (None, 64, 64, 128)  0           batch_normalization_7[0][0]      \n",
      "__________________________________________________________________________________________________\n",
      "conv2d_4 (Conv2D)               (None, 64, 64, 128)  16384       activation_7[0][0]               \n",
      "__________________________________________________________________________________________________\n",
      "batch_normalization_8 (BatchNor (None, 64, 64, 128)  512         conv2d_4[0][0]                   \n",
      "__________________________________________________________________________________________________\n",
      "activation_8 (Activation)       (None, 64, 64, 128)  0           batch_normalization_8[0][0]      \n",
      "__________________________________________________________________________________________________\n",
      "zero_padding2d_3 (ZeroPadding2D (None, 65, 65, 128)  0           activation_8[0][0]               \n",
      "__________________________________________________________________________________________________\n",
      "depthwise_conv2d_4 (DepthwiseCo (None, 32, 32, 128)  1152        zero_padding2d_3[0][0]           \n",
      "__________________________________________________________________________________________________\n",
      "batch_normalization_9 (BatchNor (None, 32, 32, 128)  512         depthwise_conv2d_4[0][0]         \n",
      "__________________________________________________________________________________________________\n",
      "activation_9 (Activation)       (None, 32, 32, 128)  0           batch_normalization_9[0][0]      \n",
      "__________________________________________________________________________________________________\n",
      "conv2d_5 (Conv2D)               (None, 32, 32, 256)  32768       activation_9[0][0]               \n",
      "__________________________________________________________________________________________________\n",
      "batch_normalization_10 (BatchNo (None, 32, 32, 256)  1024        conv2d_5[0][0]                   \n",
      "__________________________________________________________________________________________________\n",
      "activation_10 (Activation)      (None, 32, 32, 256)  0           batch_normalization_10[0][0]     \n",
      "__________________________________________________________________________________________________\n",
      "depthwise_conv2d_5 (DepthwiseCo (None, 32, 32, 256)  2304        activation_10[0][0]              \n",
      "__________________________________________________________________________________________________\n",
      "batch_normalization_11 (BatchNo (None, 32, 32, 256)  1024        depthwise_conv2d_5[0][0]         \n",
      "__________________________________________________________________________________________________\n",
      "activation_11 (Activation)      (None, 32, 32, 256)  0           batch_normalization_11[0][0]     \n",
      "__________________________________________________________________________________________________\n",
      "conv2d_6 (Conv2D)               (None, 32, 32, 256)  65536       activation_11[0][0]              \n",
      "__________________________________________________________________________________________________\n",
      "batch_normalization_12 (BatchNo (None, 32, 32, 256)  1024        conv2d_6[0][0]                   \n",
      "__________________________________________________________________________________________________\n",
      "activation_12 (Activation)      (None, 32, 32, 256)  0           batch_normalization_12[0][0]     \n",
      "__________________________________________________________________________________________________\n",
      "zero_padding2d_4 (ZeroPadding2D (None, 33, 33, 256)  0           activation_12[0][0]              \n",
      "__________________________________________________________________________________________________\n",
      "depthwise_conv2d_6 (DepthwiseCo (None, 16, 16, 256)  2304        zero_padding2d_4[0][0]           \n",
      "__________________________________________________________________________________________________\n",
      "batch_normalization_13 (BatchNo (None, 16, 16, 256)  1024        depthwise_conv2d_6[0][0]         \n",
      "__________________________________________________________________________________________________\n",
      "activation_13 (Activation)      (None, 16, 16, 256)  0           batch_normalization_13[0][0]     \n",
      "__________________________________________________________________________________________________\n",
      "conv2d_7 (Conv2D)               (None, 16, 16, 512)  131072      activation_13[0][0]              \n",
      "__________________________________________________________________________________________________\n",
      "batch_normalization_14 (BatchNo (None, 16, 16, 512)  2048        conv2d_7[0][0]                   \n",
      "__________________________________________________________________________________________________\n",
      "activation_14 (Activation)      (None, 16, 16, 512)  0           batch_normalization_14[0][0]     \n",
      "__________________________________________________________________________________________________\n",
      "zero_padding2d_5 (ZeroPadding2D (None, 17, 17, 512)  0           activation_14[0][0]              \n",
      "__________________________________________________________________________________________________\n",
      "depthwise_conv2d_7 (DepthwiseCo (None, 8, 8, 512)    4608        zero_padding2d_5[0][0]           \n",
      "__________________________________________________________________________________________________\n",
      "batch_normalization_15 (BatchNo (None, 8, 8, 512)    2048        depthwise_conv2d_7[0][0]         \n",
      "__________________________________________________________________________________________________\n",
      "activation_15 (Activation)      (None, 8, 8, 512)    0           batch_normalization_15[0][0]     \n",
      "__________________________________________________________________________________________________\n",
      "conv2d_8 (Conv2D)               (None, 8, 8, 1024)   524288      activation_15[0][0]              \n",
      "__________________________________________________________________________________________________\n",
      "batch_normalization_16 (BatchNo (None, 8, 8, 1024)   4096        conv2d_8[0][0]                   \n",
      "__________________________________________________________________________________________________\n",
      "activation_16 (Activation)      (None, 8, 8, 1024)   0           batch_normalization_16[0][0]     \n",
      "__________________________________________________________________________________________________\n",
      "dropout_1 (Dropout)             (None, 8, 8, 1024)   0           activation_16[0][0]              \n",
      "__________________________________________________________________________________________________\n",
      "depthwise_conv2d_8 (DepthwiseCo (None, 4, 4, 1024)   9216        dropout_1[0][0]                  \n",
      "__________________________________________________________________________________________________\n",
      "batch_normalization_17 (BatchNo (None, 4, 4, 1024)   4096        depthwise_conv2d_8[0][0]         \n",
      "__________________________________________________________________________________________________\n",
      "activation_17 (Activation)      (None, 4, 4, 1024)   0           batch_normalization_17[0][0]     \n",
      "__________________________________________________________________________________________________\n",
      "conv2d_9 (Conv2D)               (None, 4, 4, 1024)   1048576     activation_17[0][0]              \n",
      "__________________________________________________________________________________________________\n",
      "batch_normalization_18 (BatchNo (None, 4, 4, 1024)   4096        conv2d_9[0][0]                   \n",
      "__________________________________________________________________________________________________\n",
      "imagefeature_extraction_1 (Imag (None, 18)           0           normalizeoutput[0][0]            \n",
      "__________________________________________________________________________________________________\n",
      "activation_18 (Activation)      (None, 4, 4, 1024)   0           batch_normalization_18[0][0]     \n",
      "__________________________________________________________________________________________________\n",
      "dense_1 (Dense)                 (None, 64)           1216        imagefeature_extraction_1[0][0]  \n",
      "__________________________________________________________________________________________________\n",
      "dropout_2 (Dropout)             (None, 4, 4, 1024)   0           activation_18[0][0]              \n",
      "__________________________________________________________________________________________________\n",
      "dense_2 (Dense)                 (None, 64)           4160        dense_1[0][0]                    \n",
      "__________________________________________________________________________________________________\n",
      "featureoutput (GlobalAveragePoo (None, 1024)         0           dropout_2[0][0]                  \n",
      "__________________________________________________________________________________________________\n",
      "batch_normalization_1 (BatchNor (None, 64)           256         dense_2[0][0]                    \n",
      "__________________________________________________________________________________________________\n",
      "dropout_3 (Dropout)             (None, 1024)         0           featureoutput[0][0]              \n",
      "__________________________________________________________________________________________________\n",
      "activation_1 (Activation)       (None, 64)           0           batch_normalization_1[0][0]      \n",
      "__________________________________________________________________________________________________\n",
      "reshape_2 (Reshape)             (None, 1, 1, 1024)   0           dropout_3[0][0]                  \n",
      "__________________________________________________________________________________________________\n",
      "reshape_1 (Reshape)             (None, 1, 1, 64)     0           activation_1[0][0]               \n",
      "__________________________________________________________________________________________________\n",
      "concatenate_1 (Concatenate)     (None, 1, 1, 1088)   0           reshape_2[0][0]                  \n",
      "                                                                 reshape_1[0][0]                  \n",
      "__________________________________________________________________________________________________\n",
      "dropout_4 (Dropout)             (None, 1, 1, 1088)   0           concatenate_1[0][0]              \n",
      "__________________________________________________________________________________________________\n",
      "conv2d_10 (Conv2D)              (None, 1, 1, 5)      5440        dropout_4[0][0]                  \n",
      "__________________________________________________________________________________________________\n",
      "activation_19 (Activation)      (None, 1, 1, 5)      0           conv2d_10[0][0]                  \n",
      "__________________________________________________________________________________________________\n",
      "classoutput (Reshape)           (None, 5)            0           activation_19[0][0]              \n",
      "==================================================================================================\n",
      "Total params: 1,885,696\n",
      "Trainable params: 1,873,920\n",
      "Non-trainable params: 11,776\n",
      "__________________________________________________________________________________________________\n"
     ]
    }
   ],
   "source": [
    "keras.backend.clear_session() #그래프에 정의된 변수 Clear\n",
    "tf.global_variables_initializer() #세션에 초기화 연산을 수행해야 하며, 변수에 메모리를 할당하고 초기값을 설정하는 역할\n",
    "model = create_mobilnetv1_model((256,256,3), 5, use_elu=True , print_summary=True) #MobilenetV1 모델에 인자값 넘겨주고 return값 model에 저장"
   ]
  },
  {
   "cell_type": "code",
   "execution_count": 21,
   "metadata": {},
   "outputs": [
    {
     "name": "stdout",
     "output_type": "stream",
     "text": [
      "y_one_hot_encoding =>0 : 253, 1 : 207, 2 : 290, 3 : 313, 4 : 173, total : 1236\n",
      "Y_train =>0 : 177, 1 : 150, 2 : 214, 3 : 222, 4 : 126, total : 889\n",
      "Y_val =>0 : 50, 1 : 34, 2 : 47, 3 : 61, 4 : 31, total : 223\n",
      "Y_test =>0 : 26, 1 : 23, 2 : 29, 3 : 30, 4 : 16, total : 124\n"
     ]
    }
   ],
   "source": [
    "target_data_set_dir = 'PDImages/2020_simulator_images'\n",
    "target_data_set_dir = 'PDImages/2020_simulator_images_with_202011'\n",
    "file_list = os.listdir(target_data_set_dir)\n",
    "file_list = [file for file in file_list if file.endswith(\".bmp\")]\n",
    "x_ori, y_ori = LoadImageDatas(target_data_set_dir,file_list, False)\n",
    "n_labels = len(np.unique(y_ori))\n",
    "y_one_hot_encoding = np_utils.to_categorical(y_ori,n_labels)\n",
    "X_train, X_test, Y_train, Y_test = train_test_split(x_ori, y_one_hot_encoding, test_size = 0.1) # 테스트 셋과 학습셋을 분리 한다.\n",
    "X_train, X_val, Y_train, Y_val = train_test_split(X_train, Y_train, test_size = 0.2)\n",
    "labelcheck(\"y_one_hot_encoding\", y_one_hot_encoding)\n",
    "labelcheck(\"Y_train\", Y_train)\n",
    "labelcheck(\"Y_val\", Y_val)\n",
    "labelcheck(\"Y_test\", Y_test)"
   ]
  },
  {
   "cell_type": "code",
   "execution_count": null,
   "metadata": {},
   "outputs": [],
   "source": [
    "#new_20201106_images, new_20201106_labels = LoadImageDatas(aa, print_filse=False)"
   ]
  },
  {
   "cell_type": "code",
   "execution_count": 314,
   "metadata": {},
   "outputs": [
    {
     "name": "stdout",
     "output_type": "stream",
     "text": [
      "Image loaded count :  (728, 256, 256, 3)\n",
      "Label loaded count :  (728,)\n"
     ]
    }
   ],
   "source": [
    "voidfilelist = ListupDataFiles('PDImages/20201106_images/Void')\n",
    "voidimages, voidlabels = LoadImageDatas(voidfilelist,print_filse=False, filt= 2)"
   ]
  },
  {
   "cell_type": "code",
   "execution_count": 315,
   "metadata": {},
   "outputs": [
    {
     "name": "stdout",
     "output_type": "stream",
     "text": [
      "Image loaded count :  (612, 256, 256, 3)\n",
      "Label loaded count :  (612,)\n"
     ]
    }
   ],
   "source": [
    "coronafilelist = ListupDataFiles('PDImages/20201106_images/Corona')\n",
    "coronaimages, coronalabels = LoadImageDatas(coronafilelist,print_filse=False, filt= 1)"
   ]
  },
  {
   "cell_type": "code",
   "execution_count": 316,
   "metadata": {},
   "outputs": [
    {
     "name": "stdout",
     "output_type": "stream",
     "text": [
      "Image loaded count :  (420, 256, 256, 3)\n",
      "Label loaded count :  (420,)\n"
     ]
    }
   ],
   "source": [
    "surfacefilelist = ListupDataFiles('PDImages/20201106_images/Surface')\n",
    "surfaceimages, surfacelabels = LoadImageDatas(surfacefilelist,print_filse=False, filt= 1)"
   ]
  },
  {
   "cell_type": "code",
   "execution_count": 317,
   "metadata": {},
   "outputs": [
    {
     "name": "stdout",
     "output_type": "stream",
     "text": [
      "Image loaded count :  (510, 256, 256, 3)\n",
      "Label loaded count :  (510,)\n"
     ]
    }
   ],
   "source": [
    "floationgfilelist = ListupDataFiles('PDImages/20201106_images/Floating')\n",
    "floatingimages, floatinglabels = LoadImageDatas(floationgfilelist,print_filse=False, filt= 1)"
   ]
  },
  {
   "cell_type": "code",
   "execution_count": 366,
   "metadata": {},
   "outputs": [
    {
     "name": "stdout",
     "output_type": "stream",
     "text": [
      "Image loaded count :  (122, 256, 256, 3)\n",
      "Label loaded count :  (122,)\n"
     ]
    }
   ],
   "source": [
    "noisefilelist = ListupDataFiles('PDImages/20201106_images/Noise')\n",
    "noiseimages, noiselabels = LoadImageDatas(noisefilelist,print_filse=False, filt= 1)"
   ]
  },
  {
   "cell_type": "code",
   "execution_count": 367,
   "metadata": {},
   "outputs": [
    {
     "data": {
      "text/plain": [
       "(2392, 256, 256, 3)"
      ]
     },
     "execution_count": 367,
     "metadata": {},
     "output_type": "execute_result"
    }
   ],
   "source": [
    "new_20201106_images = np.concatenate((voidimages, coronaimages, surfaceimages, floatingimages, noiseimages ), axis=0)\n",
    "new_20201106_images.shape"
   ]
  },
  {
   "cell_type": "code",
   "execution_count": 368,
   "metadata": {},
   "outputs": [
    {
     "data": {
      "text/plain": [
       "(2392,)"
      ]
     },
     "execution_count": 368,
     "metadata": {},
     "output_type": "execute_result"
    }
   ],
   "source": [
    "new_20201106_labels = np.concatenate((voidlabels, coronalabels, surfacelabels, floatinglabels, noiselabels ), axis=0)\n",
    "new_20201106_labels.shape"
   ]
  },
  {
   "cell_type": "code",
   "execution_count": 237,
   "metadata": {},
   "outputs": [],
   "source": []
  },
  {
   "cell_type": "code",
   "execution_count": 337,
   "metadata": {},
   "outputs": [
    {
     "name": "stdout",
     "output_type": "stream",
     "text": [
      "y_one_hot_encoding =>0 : 99, 1 : 728, 2 : 420, 3 : 612, 4 : 510, total : 2369\n",
      "Y_train =>0 : 61, 1 : 527, 2 : 303, 3 : 453, 4 : 361, total : 1705\n",
      "Y_val =>0 : 22, 1 : 129, 2 : 83, 3 : 99, 4 : 94, total : 427\n",
      "Y_test =>0 : 16, 1 : 72, 2 : 34, 3 : 60, 4 : 55, total : 237\n"
     ]
    }
   ],
   "source": [
    "n_labels = len(np.unique(new_20201106_labels))\n",
    "\n",
    "new_20201106_labels_one_hot_encoding = np_utils.to_categorical(new_20201106_labels,n_labels)\n",
    "\n",
    "X_train, X_test, Y_train, Y_test = train_test_split(new_20201106_images, new_20201106_labels_one_hot_encoding, test_size = 0.1) # 테스트 셋과 학습셋을 분리 한다.\n",
    "X_train, X_val, Y_train, Y_val = train_test_split(X_train, Y_train, test_size = 0.2)\n",
    "labelcheck(\"y_one_hot_encoding\", new_20201106_labels_one_hot_encoding)\n",
    "labelcheck(\"Y_train\", Y_train)\n",
    "labelcheck(\"Y_val\", Y_val)\n",
    "labelcheck(\"Y_test\", Y_test)"
   ]
  },
  {
   "cell_type": "code",
   "execution_count": 338,
   "metadata": {},
   "outputs": [
    {
     "data": {
      "text/plain": [
       "5"
      ]
     },
     "execution_count": 338,
     "metadata": {},
     "output_type": "execute_result"
    }
   ],
   "source": [
    "n_labels"
   ]
  },
  {
   "cell_type": "markdown",
   "metadata": {},
   "source": [
    "# 3. 모델 학습과정 설정하기(손실함수, 최적화 등등)"
   ]
  },
  {
   "cell_type": "code",
   "execution_count": 370,
   "metadata": {},
   "outputs": [],
   "source": [
    "sgdopt = SGD(lr=0.1)# SGD,Adam 등연전파 함수\n",
    "adam = Adam(lr=0.001, beta_1=0.9, beta_2=0.999)\n",
    "#adadelta = Adadelta(lr=0.1)\n",
    "\n",
    "#rmsprop = RMSprop(lr=0.0001)\n",
    "rmsprop = RMSprop(lr=0.003)\n",
    "#rmsprop = RMSprop(lr=0.01)\n",
    "\n",
    "#try :\n",
    "#    model = multi_gpu_model(model, gpus=3,cpu_merge=True)        \n",
    "#    print(\"Parallel GPU mode run\")\n",
    "#except :\n",
    "#    print(\"Single GPU mode run\")\n",
    "\n",
    "\n",
    "#RMSProp은 과거의 모든 기울기를 균일하게 더하지 않고 새로운 기울기의 정보만 반영하도록 해서 학습률이 크게 떨어져 0에 가까워지는 것을 방지하는 방법\n",
    "model.compile(\n",
    "    loss='categorical_crossentropy', #손실 평가 함수, 모델 오차측정\n",
    "    optimizer=rmsprop,    # SGD,Adam 등연전파 함수\n",
    "    #optimizer=sgdopt,\n",
    "    #optimizer=adam,\n",
    "    metrics=['accuracy']\n",
    ")\n",
    "\n",
    "#import datetime\n",
    "\n",
    "#logdir = os.path.join('logs', datetime.datetime.now().strftime('%Y%m%d-%H%M%S'))\n",
    "#tensorboard_callback = tf.keras.callbacks.TensorBoard(logdir, histogram_freq=1)\n",
    "\n",
    "#로그 생성하고 저장, 로그가 저장괼 디렉토리 위치 설정(사용X)\n",
    "logdir = \"./graph/logs/fit/\" + datetime.datetime.now().strftime(\"%Y%m%d-%H%M%S\")\n",
    "\n",
    "tb_hist = keras.callbacks.TensorBoard(log_dir=logdir, histogram_freq=1, write_graph=True, write_images=True)\n",
    "#model.fit(X_train, Y_train, epochs=1000, batch_size=10, validation_data=(X_val, Y_val), callbacks=[tb_hist])\n",
    "\n",
    "#with tf.Session() as sess:\n",
    "#     sess.run(tf.global_variables_initializer())\n",
    "\n",
    "\n",
    "#Initialize tensorflow graph variables\n",
    "\n"
   ]
  },
  {
   "cell_type": "code",
   "execution_count": 371,
   "metadata": {},
   "outputs": [],
   "source": [
    "#earlystopping\n",
    "#val_loss가 4번동안 나아지지 않으면 훈련종료\n",
    "#restore_best_weights이 True라면 training이 끝난 후, model의 weight를 monitor하고 있던 값이 가장 좋았을 때의 weight로 복원합니다\n",
    "\n",
    "earlystop = EarlyStopping ( monitor = 'val_loss', min_delta = 0 , patience = 4, verbose=1, restore_best_weights = True)\n",
    "lr_reduction = ReduceLROnPlateau(monitor= 'val_acc', patience=5, verbose=1, factor=0.2, min_lr=0.0001)\n",
    "callbacks = [earlystop, lr_reduction]\n",
    "\n",
    "#ReduceLROnPlateau\n",
    "#모델의 개선이 없을 경우, 학습률을 조절해 모델의 개선을 유도하는 콜백함수\n",
    "#callback호출 시 factor0.2 학습률을 5분의 1로 줄인다(새로운 learning rate = 기존 learning rate * factor)\n",
    "#min_lr=0.0001 학습률의 하한선\n"
   ]
  },
  {
   "cell_type": "code",
   "execution_count": 41,
   "metadata": {},
   "outputs": [],
   "source": [
    "#tf.initialize_all_variables().run(session=kb.get_session())    \n",
    "#initop = tf.initialize_all_variables()\n",
    "\n",
    "#tf.global_variables_initializer()\n",
    "\n",
    "#sess = kb.get_session()\n",
    "#sess.run(initop)\n"
   ]
  },
  {
   "cell_type": "markdown",
   "metadata": {},
   "source": [
    "# 모델 학습 실행"
   ]
  },
  {
   "cell_type": "code",
   "execution_count": 372,
   "metadata": {},
   "outputs": [
    {
     "data": {
      "text/plain": [
       "<tf.Operation 'init_1' type=NoOp>"
      ]
     },
     "execution_count": 372,
     "metadata": {},
     "output_type": "execute_result"
    },
    {
     "name": "stdout",
     "output_type": "stream",
     "text": [
      "Train on 1705 samples, validate on 427 samples\n",
      "Epoch 1/20\n",
      "1705/1705 [==============================] - 61s 36ms/step - loss: 1.6222 - acc: 0.7050 - val_loss: 0.9618 - val_acc: 0.9368\n",
      "Epoch 2/20\n",
      "1705/1705 [==============================] - 60s 35ms/step - loss: 0.7486 - acc: 0.9836 - val_loss: 0.7380 - val_acc: 0.9766\n",
      "Epoch 3/20\n",
      "1705/1705 [==============================] - 61s 36ms/step - loss: 0.6760 - acc: 0.9959 - val_loss: 0.6741 - val_acc: 0.9930\n",
      "Epoch 4/20\n",
      "1705/1705 [==============================] - 60s 35ms/step - loss: 0.6167 - acc: 0.9994 - val_loss: 0.6210 - val_acc: 0.9930\n",
      "Epoch 5/20\n",
      "1705/1705 [==============================] - 60s 35ms/step - loss: 0.5540 - acc: 1.0000 - val_loss: 0.5299 - val_acc: 0.9953\n",
      "Epoch 6/20\n",
      "1705/1705 [==============================] - 61s 36ms/step - loss: 0.4779 - acc: 1.0000 - val_loss: 0.4942 - val_acc: 0.9953\n",
      "Epoch 7/20\n",
      "1705/1705 [==============================] - 59s 34ms/step - loss: 0.3937 - acc: 0.9994 - val_loss: 3.6712 - val_acc: 0.4918\n",
      "Epoch 8/20\n",
      "1705/1705 [==============================] - 60s 35ms/step - loss: 0.4032 - acc: 0.9830 - val_loss: 0.4772 - val_acc: 0.9813\n",
      "Epoch 9/20\n",
      "1705/1705 [==============================] - 60s 35ms/step - loss: 0.3236 - acc: 0.9988 - val_loss: 0.3412 - val_acc: 0.9953\n",
      "Epoch 10/20\n",
      "1705/1705 [==============================] - 61s 36ms/step - loss: 0.2772 - acc: 1.0000 - val_loss: 0.2784 - val_acc: 0.9977\n",
      "Epoch 11/20\n",
      "1705/1705 [==============================] - 60s 35ms/step - loss: 0.2303 - acc: 1.0000 - val_loss: 0.2126 - val_acc: 0.9953\n",
      "Epoch 12/20\n",
      "1705/1705 [==============================] - 60s 35ms/step - loss: 0.1836 - acc: 1.0000 - val_loss: 0.5610 - val_acc: 0.7705\n",
      "Epoch 13/20\n",
      "1705/1705 [==============================] - 61s 35ms/step - loss: 0.1408 - acc: 1.0000 - val_loss: 3.5604 - val_acc: 0.1967\n",
      "Epoch 14/20\n",
      "1705/1705 [==============================] - 60s 35ms/step - loss: 0.1044 - acc: 1.0000 - val_loss: 5.4373 - val_acc: 0.0515\n",
      "Epoch 15/20\n",
      "1705/1705 [==============================] - 61s 36ms/step - loss: 0.8967 - acc: 0.8287 - val_loss: 1.4904 - val_acc: 0.6370\n",
      "Restoring model weights from the end of the best epoch\n",
      "\n",
      "Epoch 00015: ReduceLROnPlateau reducing learning rate to 0.0006000000052154065.\n",
      "Epoch 00015: early stopping\n"
     ]
    }
   ],
   "source": [
    "#X_train, X_test, Y_train, Y_test\n",
    "#세션에 초기화 연산을 수행해야 하며, 변수에 메모리를 할당하고 초기값을 설정하는 역할\n",
    "tf.global_variables_initializer() \n",
    "\n",
    "history_learning = model.fit(\n",
    "    #x_ori, y_one_hot_encoding,\n",
    "    X_train,Y_train, \n",
    "    batch_size=200, epochs=20,\n",
    "    #validation_split=0.1,\n",
    "    validation_data=(X_val, Y_val),\n",
    "    shuffle=True,\n",
    "    verbose=1,\n",
    "    callbacks = callbacks\n",
    "  #  , callbacks=[tb_hist]\n",
    ")"
   ]
  },
  {
   "cell_type": "code",
   "execution_count": null,
   "metadata": {},
   "outputs": [],
   "source": [
    "from keras.utils import plot_model\n",
    "plot_model(model, to_file='model.png')\n",
    "plot_model(model, to_file='model_shapes.png', show_shapes=True)"
   ]
  },
  {
   "cell_type": "code",
   "execution_count": null,
   "metadata": {},
   "outputs": [],
   "source": [
    "print('inputs : ', [input.op.name for input in model.inputs])"
   ]
  },
  {
   "cell_type": "code",
   "execution_count": null,
   "metadata": {},
   "outputs": [],
   "source": [
    "print('inputs : ', [output.op.name for output in model.outputs])"
   ]
  },
  {
   "cell_type": "code",
   "execution_count": 373,
   "metadata": {},
   "outputs": [
    {
     "data": {
      "image/png": "[encoded data removed]",
      "text/plain": [
       "<matplotlib.figure.Figure at 0x7ee7542b10f0>"
      ]
     },
     "metadata": {},
     "output_type": "display_data"
    }
   ],
   "source": [
    "stats = DataFrame(history_learning.history)\n",
    "imgplot = stats[['acc', 'val_acc']].plot()\n",
    "fig = imgplot.get_figure()\n",
    "fig.savefig(\"network_train_trend_acc.png\")"
   ]
  },
  {
   "cell_type": "code",
   "execution_count": 374,
   "metadata": {},
   "outputs": [
    {
     "data": {
      "image/png": "[encoded data removed]",
      "text/plain": [
       "<matplotlib.figure.Figure at 0x7ee754274da0>"
      ]
     },
     "metadata": {},
     "output_type": "display_data"
    }
   ],
   "source": [
    "stats = DataFrame(history_learning.history)\n",
    "imgplot = stats[['loss', 'val_loss']].plot()\n",
    "fig = imgplot.get_figure()\n",
    "fig.savefig(\"network_train_trend_loss.png\")"
   ]
  },
  {
   "cell_type": "markdown",
   "metadata": {},
   "source": [
    "# 모델평가하기"
   ]
  },
  {
   "cell_type": "code",
   "execution_count": 375,
   "metadata": {},
   "outputs": [
    {
     "name": "stdout",
     "output_type": "stream",
     "text": [
      "1705/1705 [==============================] - 47s 28ms/step\n"
     ]
    }
   ],
   "source": [
    "#X_train, X_test, Y_train, Y_test = t\n",
    "evaluate = model.evaluate(X_train, Y_train)"
   ]
  },
  {
   "cell_type": "code",
   "execution_count": 376,
   "metadata": {},
   "outputs": [
    {
     "name": "stdout",
     "output_type": "stream",
     "text": [
      "[0.20400212996166822, 1.0]\n"
     ]
    }
   ],
   "source": [
    "print(evaluate)"
   ]
  },
  {
   "cell_type": "code",
   "execution_count": 377,
   "metadata": {},
   "outputs": [
    {
     "name": "stdout",
     "output_type": "stream",
     "text": [
      "427/427 [==============================] - 12s 28ms/step\n"
     ]
    }
   ],
   "source": [
    "#X_train, X_test, Y_train, Y_test = t\n",
    "evaluate = model.evaluate(X_val, Y_val)"
   ]
  },
  {
   "cell_type": "code",
   "execution_count": 378,
   "metadata": {},
   "outputs": [
    {
     "name": "stdout",
     "output_type": "stream",
     "text": [
      "[0.2126291810209913, 0.9953161599485322]\n"
     ]
    }
   ],
   "source": [
    "print(evaluate)"
   ]
  },
  {
   "cell_type": "code",
   "execution_count": 379,
   "metadata": {},
   "outputs": [
    {
     "name": "stdout",
     "output_type": "stream",
     "text": [
      "237/237 [==============================] - 7s 28ms/step\n"
     ]
    }
   ],
   "source": [
    "#test셋으로 학습한 모델 평가하기(evaluate함수)\n",
    "evaluate = model.evaluate(X_test, Y_test)"
   ]
  },
  {
   "cell_type": "code",
   "execution_count": 380,
   "metadata": {},
   "outputs": [
    {
     "name": "stdout",
     "output_type": "stream",
     "text": [
      "[0.22178481896466848, 0.9957805907172996]\n"
     ]
    }
   ],
   "source": [
    "print(evaluate)"
   ]
  },
  {
   "cell_type": "code",
   "execution_count": 381,
   "metadata": {},
   "outputs": [
    {
     "name": "stdout",
     "output_type": "stream",
     "text": [
      "1236/1236 [==============================] - 35s 28ms/step\n"
     ]
    }
   ],
   "source": [
    "evaluate = model.evaluate(x_ori, y_one_hot_encoding)"
   ]
  },
  {
   "cell_type": "code",
   "execution_count": 382,
   "metadata": {},
   "outputs": [
    {
     "name": "stdout",
     "output_type": "stream",
     "text": [
      "[3.563872254010543, 0.5339805829100625]\n"
     ]
    }
   ],
   "source": [
    "print(evaluate)"
   ]
  },
  {
   "cell_type": "code",
   "execution_count": 355,
   "metadata": {},
   "outputs": [],
   "source": [
    "success_marjin = 90.0"
   ]
  },
  {
   "cell_type": "code",
   "execution_count": null,
   "metadata": {},
   "outputs": [],
   "source": [
    "#returnresult, returncorrect, returnfiles, rslt = CheckValidationEach(target_data_set_dir, model)\n",
    "returnresult, returncorrect, returnfiles, rslt = CheckValidationEach(target_data_set_dir, model)\n",
    "DisplyPerdictIncorrectResult(returnresult, returncorrect, returnfiles, target_data_set_dir, success_marjin)\n",
    "#f= open('2020_new_model_1102_rslt','w')\n",
    "#f.write(rslt)\n",
    "#f.close()"
   ]
  },
  {
   "cell_type": "code",
   "execution_count": 389,
   "metadata": {},
   "outputs": [
    {
     "name": "stdout",
     "output_type": "stream",
     "text": [
      "Predict each data\n",
      "Predict complete 17.6927227973938sec8/428(100%), Corr=428,Incorr=0,Acc =   1.000,spt=17.69,ispt=0.03\n"
     ]
    }
   ],
   "source": [
    "target_data_set_dir2 = 'PDImages/20201105_Void_sampes_1'\n",
    "#returnresult, returncorrect, returnfiles, rslt = CheckValidationEach(target_data_set_dir, model)\n",
    "returnresult, returncorrect, returnfiles, rslt = CheckValidationEach(target_data_set_dir2, model)\n",
    "DisplyPerdictIncorrectResult(returnresult, returncorrect, returnfiles, success_marjin)\n",
    "#f= open('2020_new_model_1102_rslt','w')\n",
    "#f.write(rslt)\n",
    "#f.close()"
   ]
  },
  {
   "cell_type": "code",
   "execution_count": 390,
   "metadata": {},
   "outputs": [
    {
     "name": "stdout",
     "output_type": "stream",
     "text": [
      "Predict each data\n",
      "Predict complete 0.9003801345825195sec5(100%), Corr=25,Incorr=0,Acc =   1.000,spt=0.90,ispt=0.04\n"
     ]
    }
   ],
   "source": [
    "target_data_set_dir2 = 'PDImages/20201105_Void_sampes_2'\n",
    "#returnresult, returncorrect, returnfiles, rslt = CheckValidationEach(target_data_set_dir, model)\n",
    "returnresult, returncorrect, returnfiles, rslt = CheckValidationEach(target_data_set_dir2, model)\n",
    "DisplyPerdictIncorrectResult(returnresult, returncorrect, returnfiles, success_marjin)\n",
    "#f= open('2020_new_model_1102_rslt','w')\n",
    "#f.write(rslt)\n",
    "#f.close()"
   ]
  },
  {
   "cell_type": "code",
   "execution_count": 391,
   "metadata": {},
   "outputs": [
    {
     "name": "stdout",
     "output_type": "stream",
     "text": [
      "Predict each data\n",
      "Predict complete 0.7322902679443359sec1(100%), Corr=21,Incorr=0,Acc =   1.000,spt=0.73,ispt=0.04\n"
     ]
    }
   ],
   "source": [
    "target_data_set_dir2 = 'PDImages/20201105_Corona_samples_1'\n",
    "#returnresult, returncorrect, returnfiles, rslt = CheckValidationEach(target_data_set_dir, model)\n",
    "returnresult, returncorrect, returnfiles, rslt = CheckValidationEach(target_data_set_dir2, model)\n",
    "DisplyPerdictIncorrectResult(returnresult, returncorrect, returnfiles, success_marjin)\n",
    "#f= open('2020_new_model_1102_rslt','w')\n",
    "#f.write(rslt)\n",
    "#f.close()"
   ]
  },
  {
   "cell_type": "code",
   "execution_count": null,
   "metadata": {},
   "outputs": [],
   "source": [
    "#returnresult, returncorrect, returnfiles, rslt = CheckValidationEach('ValTest', model)\n",
    "#f= open('PRPD_Image_Patterns_MobilNetV1_kf_vald_V01_T02.txt','w')\n",
    "#f.write(rslt)\n",
    "#f.close()"
   ]
  },
  {
   "cell_type": "markdown",
   "metadata": {},
   "source": [
    "#Test 20111106 pd pulse generator generate datas"
   ]
  },
  {
   "cell_type": "code",
   "execution_count": 383,
   "metadata": {},
   "outputs": [
    {
     "name": "stdout",
     "output_type": "stream",
     "text": [
      "Predict each data\n",
      "Predict complete 59.39624333381653sec6/1456(100%), Corr=1454,Incorr=2,Acc =   0.999,spt=59.40,ispt=0.03\n",
      "No:  0.619 Vo: 34.566,Su: 64.792,Co:  0.003,NF:  0.020,P = 2,C = 1, acc = Fail, file = Void_AD10A6220201106152700_1_img.bmp\n",
      "No:  0.072 Vo: 28.503,Su: 71.411,Co:  0.001,NF:  0.013,P = 2,C = 1, acc = Fail, file = Void_AD20E6220201106152700_1_img.bmp\n"
     ]
    }
   ],
   "source": [
    "#returnresult, returncorrect, returnfiles, rslt = CheckValidationEach(target_data_set_dir, model)\n",
    "returnresult, returncorrect, returnfiles, rslt = CheckValidationEach('PDImages/20201106_images/Void', model)\n",
    "DisplyPerdictIncorrectResult(returnresult, returncorrect, returnfiles, success_marjin)\n",
    "#f= open('2020_new_model_1102_rslt','w')\n",
    "#f.write(rslt)\n",
    "#f.close()"
   ]
  },
  {
   "cell_type": "code",
   "execution_count": 384,
   "metadata": {},
   "outputs": [
    {
     "name": "stdout",
     "output_type": "stream",
     "text": [
      "Predict each data\n",
      "Predict complete 25.64641785621643sec/612(100%), Corr=612,Incorr=0,Acc =   1.000,spt=25.65,ispt=0.03\n"
     ]
    }
   ],
   "source": [
    "#returnresult, returncorrect, returnfiles, rslt = CheckValidationEach(target_data_set_dir, model)\n",
    "returnresult, returncorrect, returnfiles, rslt = CheckValidationEach('PDImages/20201106_images/Corona', model)\n",
    "DisplyPerdictIncorrectResult(returnresult, returncorrect, returnfiles, success_marjin)\n",
    "#f= open('2020_new_model_1102_rslt','w')\n",
    "#f.write(rslt)\n",
    "#f.close()"
   ]
  },
  {
   "cell_type": "code",
   "execution_count": 385,
   "metadata": {},
   "outputs": [
    {
     "name": "stdout",
     "output_type": "stream",
     "text": [
      "Predict each data\n",
      "Predict complete 17.30184292793274sec/420(100%), Corr=420,Incorr=0,Acc =   1.000,spt=17.30,ispt=0.03\n"
     ]
    }
   ],
   "source": [
    "#returnresult, returncorrect, returnfiles, rslt = CheckValidationEach(target_data_set_dir, model)\n",
    "returnresult, returncorrect, returnfiles, rslt = CheckValidationEach('PDImages/20201106_images/Surface', model)\n",
    "DisplyPerdictIncorrectResult(returnresult, returncorrect, returnfiles, success_marjin)\n",
    "#f= open('2020_new_model_1102_rslt','w')\n",
    "#f.write(rslt)\n",
    "#f.close()"
   ]
  },
  {
   "cell_type": "code",
   "execution_count": 386,
   "metadata": {},
   "outputs": [
    {
     "name": "stdout",
     "output_type": "stream",
     "text": [
      "Predict each data\n",
      "Predict complete 19.758840084075928sec510(100%), Corr=510,Incorr=0,Acc =   1.000,spt=19.76,ispt=0.03\n",
      "No:  0.001 Vo: 13.630,Su:  0.000,Co:  0.000,NF: 86.369,P = 4,C = 4, acc = Succ, file = Floating_AD10A6220201106121100_4_img.bmp\n"
     ]
    }
   ],
   "source": [
    "#returnresult, returncorrect, returnfiles, rslt = CheckValidationEach(target_data_set_dir, model)\n",
    "returnresult, returncorrect, returnfiles, rslt = CheckValidationEach('PDImages/20201106_images/Floating', model)\n",
    "DisplyPerdictIncorrectResult(returnresult, returncorrect, returnfiles, success_marjin)\n",
    "#f= open('2020_new_model_1102_rslt','w')\n",
    "#f.write(rslt)\n",
    "#f.close()"
   ]
  },
  {
   "cell_type": "code",
   "execution_count": 387,
   "metadata": {},
   "outputs": [
    {
     "name": "stdout",
     "output_type": "stream",
     "text": [
      "Predict each data\n",
      "Predict complete 4.193701505661011sec/122(100%), Corr=118,Incorr=4,Acc =   0.967,spt=4.19,ispt=0.04\n",
      "No:  1.895 Vo: 97.885,Su:  0.018,Co:  0.001,NF:  0.201,P = 1,C = 0, acc = Fail, file = Noise_20200528160400_0_img.bmp\n",
      "No:  6.741 Vo:  0.125,Su:  0.306,Co:  0.013,NF: 92.814,P = 4,C = 0, acc = Fail, file = Noise_D120200528160300_0_img.bmp\n",
      "No:  1.895 Vo: 97.885,Su:  0.018,Co:  0.001,NF:  0.201,P = 1,C = 0, acc = Fail, file = Noise_D120200528160400_0_img.bmp\n",
      "No:  6.741 Vo:  0.125,Su:  0.306,Co:  0.013,NF: 92.814,P = 4,C = 0, acc = Fail, file = Noise_20200528160300_0_img.bmp\n"
     ]
    }
   ],
   "source": [
    "#returnresult, returncorrect, returnfiles, rslt = CheckValidationEach(target_data_set_dir, model)\n",
    "returnresult, returncorrect, returnfiles, rslt = CheckValidationEach('PDImages/20201106_images/Noise', model)\n",
    "DisplyPerdictIncorrectResult(returnresult, returncorrect, returnfiles, success_marjin)\n",
    "#f= open('2020_new_model_1102_rslt','w')\n",
    "#f.write(rslt)\n",
    "#f.close()"
   ]
  },
  {
   "cell_type": "code",
   "execution_count": 388,
   "metadata": {},
   "outputs": [
    {
     "data": {
      "text/plain": [
       "<matplotlib.image.AxesImage at 0x7ee75426d0b8>"
      ]
     },
     "execution_count": 388,
     "metadata": {},
     "output_type": "execute_result"
    },
    {
     "data": {
      "image/png": "[encoded data removed]",
      "text/plain": [
       "<matplotlib.figure.Figure at 0x7ee74e6fcb38>"
      ]
     },
     "metadata": {},
     "output_type": "display_data"
    }
   ],
   "source": [
    "#img = imread(target_data_set_dir+'/Noise_20200528161000_0_img.bmp')\n",
    "img = imread('PDImages/20201106_images/Void/Void_AD10A6220201106152700_1_img.bmp')\n",
    "\n",
    "plt.imshow(img)"
   ]
  },
  {
   "cell_type": "code",
   "execution_count": 144,
   "metadata": {},
   "outputs": [
    {
     "data": {
      "text/plain": [
       "<matplotlib.image.AxesImage at 0x7ee7884c80b8>"
      ]
     },
     "execution_count": 144,
     "metadata": {},
     "output_type": "execute_result"
    },
    {
     "data": {
      "image/png": "[encoded data removed]",
      "text/plain": [
       "<matplotlib.figure.Figure at 0x7ee788628320>"
      ]
     },
     "metadata": {},
     "output_type": "display_data"
    }
   ],
   "source": [
    "#img = imread(target_data_set_dir+'/Noise_20200528161000_0_img.bmp')\n",
    "img = imread(target_data_set_dir+'/Surface_20200528145500_2_img.bmp')\n",
    "\n",
    "plt.imshow(img)"
   ]
  },
  {
   "cell_type": "code",
   "execution_count": 176,
   "metadata": {},
   "outputs": [
    {
     "data": {
      "text/plain": [
       "<matplotlib.image.AxesImage at 0x7ee6ff996a58>"
      ]
     },
     "execution_count": 176,
     "metadata": {},
     "output_type": "execute_result"
    },
    {
     "data": {
      "image/png": "[encoded data removed]",
      "text/plain": [
       "<matplotlib.figure.Figure at 0x7ee6ff955f28>"
      ]
     },
     "metadata": {},
     "output_type": "display_data"
    }
   ],
   "source": [
    "#img = imread(target_data_set_dir+'/Noise_20200528161000_0_img.bmp')\n",
    "img = imread('PDImages/20201105_Corona_samples_1/Corona_20201106143000_3_img.bmp')\n",
    "\n",
    "plt.imshow(img)"
   ]
  },
  {
   "cell_type": "code",
   "execution_count": 61,
   "metadata": {},
   "outputs": [
    {
     "data": {
      "text/plain": [
       "<matplotlib.image.AxesImage at 0x7ee82c75a160>"
      ]
     },
     "execution_count": 61,
     "metadata": {},
     "output_type": "execute_result"
    },
    {
     "data": {
      "image/png": "[encoded data removed]",
      "text/plain": [
       "<matplotlib.figure.Figure at 0x7ee82c72eac8>"
      ]
     },
     "metadata": {},
     "output_type": "display_data"
    }
   ],
   "source": [
    "#img = imread(target_data_set_dir+'/Noise_20200528161000_0_img.bmp')\n",
    "img = imread(target_data_set_dir2+'/Void_20201105170900_1_img.bmp')\n",
    "\n",
    "plt.imshow(img)"
   ]
  },
  {
   "cell_type": "code",
   "execution_count": null,
   "metadata": {},
   "outputs": [],
   "source": [
    "model.layers[89].output"
   ]
  },
  {
   "cell_type": "code",
   "execution_count": null,
   "metadata": {},
   "outputs": [],
   "source": [
    "print(model.inputs)\n",
    "print(model.outputs)\n",
    "model.layers[88].output"
   ]
  },
  {
   "cell_type": "code",
   "execution_count": null,
   "metadata": {},
   "outputs": [],
   "source": [
    "inputs = {'input': model.inputs[0]},\n",
    "outputs = {'class_output' : model.outputs[0], 'feature_output' :model.layers[88].output}"
   ]
  },
  {
   "cell_type": "code",
   "execution_count": null,
   "metadata": {},
   "outputs": [],
   "source": [
    "def display_nodes(graph): \n",
    "    for i, node in enumerate(graph.node): \n",
    "        print('%d %s %s' % (i, node.name, node.op)) \n",
    "        [print(u'└─── %d ─ %s' % (i, n)) \n",
    "         for i, n in enumerate(node.input)]"
   ]
  },
  {
   "cell_type": "code",
   "execution_count": null,
   "metadata": {},
   "outputs": [],
   "source": [
    "display_nodes(tf.get_default_graph().as_graph_def())"
   ]
  },
  {
   "cell_type": "markdown",
   "metadata": {},
   "source": [
    "### Model save using tensorflow save module"
   ]
  },
  {
   "cell_type": "code",
   "execution_count": null,
   "metadata": {},
   "outputs": [],
   "source": [
    "#kb.set_learning_phase(0)\n",
    "#tf.keras.backend.set_learning_phase(0)\n",
    "#model.trainable = False\n",
    "tf.saved_model.simple_save(kb.get_session(), '2020_models/2020_mobil_new_simple_save_20201123_small_mbile_base_01_acc_99.8_val_loss_0.64', \n",
    "                           inputs={'image_input': model.inputs[0]}, \n",
    "                           outputs={'class_output' : model.outputs[0],\n",
    "                                    'feature_output' :model.layers[88].output})"
   ]
  },
  {
   "cell_type": "markdown",
   "metadata": {},
   "source": [
    "### Model save using keras save module"
   ]
  },
  {
   "cell_type": "code",
   "execution_count": 173,
   "metadata": {},
   "outputs": [],
   "source": [
    "#model.trainable = False\n",
    "model.save(filepath='2020_models/2020_mobil_new_simple_save_20201123_small_mbile_base_01_acc_100_val_loss_0.59_batch_200')"
   ]
  },
  {
   "cell_type": "code",
   "execution_count": null,
   "metadata": {},
   "outputs": [],
   "source": []
  },
  {
   "cell_type": "code",
   "execution_count": null,
   "metadata": {},
   "outputs": [],
   "source": []
  }
 ],
 "metadata": {
  "kernelspec": {
   "display_name": "Python 3",
   "language": "python",
   "name": "python3"
  },
  "language_info": {
   "codemirror_mode": {
    "name": "ipython",
    "version": 3
   },
   "file_extension": ".py",
   "mimetype": "text/x-python",
   "name": "python",
   "nbconvert_exporter": "python",
   "pygments_lexer": "ipython3",
   "version": "3.8.5"
  }
 },
 "nbformat": 4,
 "nbformat_minor": 4
}
